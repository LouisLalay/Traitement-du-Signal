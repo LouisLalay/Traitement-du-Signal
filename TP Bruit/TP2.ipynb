{
 "cells": [
  {
   "cell_type": "markdown",
   "metadata": {},
   "source": [
    "# TP - Signaux aléatoires\n"
   ]
  },
  {
   "cell_type": "markdown",
   "metadata": {},
   "source": [
    "### Racourcis et imports\n"
   ]
  },
  {
   "cell_type": "code",
   "execution_count": 398,
   "metadata": {},
   "outputs": [],
   "source": [
    "import numpy as np\n",
    "import soundfile as sf\n",
    "from scipy.signal import lfilter\n",
    "from scipy.io import loadmat\n",
    "import matplotlib.pyplot as plt\n",
    "\n",
    "fft=np.fft.fft\n",
    "ifft=np.fft.ifft\n",
    "pi = np.pi\n",
    "randn=np.random.randn\n",
    "i=complex(0,1)\n",
    "exp=np.exp\n",
    "cos=np.cos"
   ]
  },
  {
   "cell_type": "markdown",
   "metadata": {},
   "source": [
    "### Définition des fonctions"
   ]
  },
  {
   "cell_type": "code",
   "execution_count": 399,
   "metadata": {},
   "outputs": [],
   "source": [
    "def norm(X):\n",
    "    return ((X**2).sum())**0.5\n",
    "\n",
    "def une_colonne_spectrogramme(u,M,N,n):\n",
    "    \"\"\" \n",
    "    Renvoie une colonne de spectrogramme c'est a dire la TFD de taille M\n",
    "    d'une morceau de u debutant en n et de taille N multiplie par une fenêtre\n",
    "     de hamming \"\"\"\n",
    "    uu=u.copy().reshape(-1)  # on recopie sinon on risque d'écraser \n",
    "    # construction de la fenêtre\n",
    "    idx=np.arange(0,N)\n",
    "    w=0.54-0.46*np.cos(2*pi*idx/(N-1))\n",
    "    # les index tels que u(m)w(n-m) non nul\n",
    "    m=np.arange(n,n+N).astype(np.int)\n",
    "    morceauu=uu[m]  #morceau utile de u\n",
    "    fenu=morceauu*w  \n",
    "    Uc=fft(fenu,M) # on calcule la TFD \n",
    "    Uc=abs(Uc) # on s'intéresse seulement au module\n",
    "    Uc=Uc[0:M//2+1] # pour un signal reel il suffit de garder la moitié\n",
    "    return Uc \n",
    "\n",
    "def affiche_spectrogramme(u,N,M=None,nb=None,Fe=8192):\n",
    "    \"\"\"Affiche le specrogramme du signal u\n",
    "     La taille des fenêtres est N\n",
    "     Si M n'est pas fourni il est pris égal à N\n",
    "     nb est le pas entre deux fenêtres dont on calcule la TFD \n",
    "     si nb n'est pas fourni, nb est pris égal a N/2\"\"\"\n",
    "    \n",
    "    if M is None:\n",
    "        M=N\n",
    "    if nb is None:\n",
    "        nb=N/2\n",
    "    # On commence par créer un tableau de la bonne taille don les colonnes seront\n",
    "    # calculées par une_colonne_spectrogramme\n",
    "    uu=u.copy().reshape(-1)\n",
    "    L=len(u)\n",
    "    nombre_fen=int((L-N)//nb+1)\n",
    "    spectro=np.zeros((M//2+1,nombre_fen))\n",
    "    for k in range(nombre_fen):\n",
    "        spectro[:,k]=une_colonne_spectrogramme(u,M,N,k*nb)\n",
    "    temps_debut=0\n",
    "    temps_fin=1/Fe*nb*nombre_fen \n",
    "    freq_debut=0\n",
    "    freq_fin=(M/2)*(1/M)*Fe\n",
    "    \n",
    "    # ci-dessous de la cuisine python pour un affichage d'une image deux fois \n",
    "    # plus large que haute\n",
    "    fig, ax = plt.subplots(figsize=(6,6))\n",
    "    ax.imshow(np.log(np.flipud(spectro)), interpolation='none', # cmap=plt.cm.Reds\n",
    "              extent=[temps_debut,temps_fin,freq_debut,freq_fin])\n",
    "    ax.set_aspect(1/2*(temps_fin/freq_fin))\n",
    "    return spectro\n",
    "\n",
    "def moindres_carres(p,x,z):\n",
    "    \"\"\" % Cette fonction renvoie simplement le filtre h qui minimise l'énergie de \n",
    "% z-h*x    (h*x est la convolution PAS LE PRODUIT de h et x)\n",
    "% h est de taille p+1\n",
    "% Si la taille de z n'est pas suffisante, le programme se permet de tronquer\n",
    "% les signaux en conséquence.\n",
    "% x et z sont traites comme des signaux causaux\n",
    "\"\"\" \n",
    "    assert (len(x.shape)==2 and min(x.shape)==1) or len(x.shape)==1, \"La taille de x est mauvaise\"\n",
    "    assert (len(z.shape)==2 and min(z.shape)==1) or len(z.shape)==1, \"La taille de z est mauvaise\"\n",
    "    xc=x.copy().reshape(-1) # colonne\n",
    "    zc=z.copy().reshape(-1)\n",
    "    # \"\"\" xmat est une matrice telle que h@xmat est h*x (h convolué avec x)\"\"\"\n",
    "    xmat=np.zeros((p+1,len(xc)+p))\n",
    "    for k in range(p+1):\n",
    "        xmat[k,k:k+len(x)]=xc\n",
    "    \n",
    "    # si z est trop long\n",
    "    if len(zc)>len(xc)+p:\n",
    "        zc=zc[:len(xc)+p]\n",
    "    # si z est trop court\n",
    "    if len(zc)<len(xc)+p:\n",
    "        zc=np.concatenate((zc,np.zeros(len(xc)+p-len(zc))))\n",
    "    # resolution du problème : trouver h telle que norm(z-h@xmat) soit minimale\n",
    "    # Vous pouvez essayer de démontrer la formule hors du TP\n",
    "    L=xmat@(xmat.T)\n",
    "    V=xmat@zc.T\n",
    "    h=np.linalg.inv(L)@V\n",
    "    return h\n",
    "\n",
    "def lpc(signal,p,nb):\n",
    "    \"\"\" fonction qui renvoie les meilleurs coefficients de prediction linéaire \n",
    "       pour les morceaux de signal de taille nb. Il y a, en gros, N/nb lignes\n",
    "       ou N est le nombre d'échantillons du signal.\n",
    "       Renvoie également la puissance du résidu epsilon\"\"\"\n",
    "      \n",
    "    sc=signal.copy().reshape(-1)\n",
    "    sc=lfilter([1,-0.95],1,sc) #un filtrage passe haut pour renforcer les hautes fréquences\n",
    "    N=len(sc)\n",
    "    r=N%nb\n",
    "    if r==0:\n",
    "        taille=N//nb\n",
    "    else:\n",
    "        taille=N//nb+1\n",
    "    out=np.zeros((taille,p+1))\n",
    "    res=np.zeros(taille)\n",
    "    for k in range(taille):\n",
    "        deb=k*nb\n",
    "        fin=min((k+1)*nb,len(sc))\n",
    "        tmp=sc[deb:fin]\n",
    "        \n",
    "        if len(tmp)<nb:\n",
    "            tmp=np.concatenate((tmp,np.zeros(nb-len(tmp))))\n",
    "        \n",
    "        h=lpc_morceau(p,tmp)\n",
    "        out[k,:]=h\n",
    "        epsilon=lfilter(h,1,tmp)\n",
    "        \n",
    "        res[k]=((epsilon**2).sum()/nb)**0.5\n",
    "    return out,res\n",
    "def lpc_morceau(p,x):\n",
    "    \"\"\" % Renvoie un filtre de taille p+1 dont la première valeur est 1 et qui\n",
    "% minimise le h*x\n",
    "\"\"\" \n",
    "    assert (len(x.shape)==2 and min(x.shape)==1) or len(x.shape)==1, \"La taille de x est mauvaise\"\n",
    "    xc=x.copy().reshape(-1) # colonne\n",
    "    # \"\"\" xmat est une matrice telle que h@xmat est h*x (h convolué avec x)\"\"\"\n",
    "    xmat=np.zeros((p+1,len(xc)+p))\n",
    "    for k in range(p+1):\n",
    "        xmat[k,k:k+len(x)]=xc\n",
    "    #n=np.arange(0,len(xc))\n",
    "    #xc=xc*cos(pi*n/len(xc))\n",
    "    \n",
    "    # resolution du problème : trouver h telle que norm(z-h@xmat) soit minimale\n",
    "    # Vous pouvez essayer de démontrer la formule hors du TP\n",
    "    M=xmat@(xmat.T)\n",
    "    L=M[1:,1:]\n",
    "    V=M[1:p+1,0]\n",
    "    h1=-np.linalg.inv(L)@V\n",
    "    h=np.concatenate((np.ones(1),h1))\n",
    "    return h\n",
    "    \n",
    "def joue_lpc(lpcs,res,nb):\n",
    "    \"\"\"joue le resultat de lpcs: cree des trames de bruit, les filtre par les coefficients de la LPC et renvoie un signal concaténé.\"\"\"\n",
    "    taille=lpcs.shape[0]\n",
    "    out=np.zeros(taille*nb)\n",
    "    #cordesvocales=randn(len(out))\n",
    "    # Alternative les cordes vocales envoient des impulsions régulières\n",
    "    cordesvocales=np.zeros(len(out))\n",
    "    cordesvocales[::220]=10\n",
    "    for k in range(taille):\n",
    "        epsilon=res[k]*cordesvocales[k*nb:(k+1)*nb]\n",
    "        \n",
    "        tmp=lfilter([1],lpcs[k,:],epsilon)\n",
    "        out[k*nb:(k+1)*nb]=tmp\n",
    "    return out"
   ]
  },
  {
   "cell_type": "markdown",
   "metadata": {},
   "source": [
    "## 1.1 Identification d'un canal\n",
    "On s'intéresse dans cette partie à l'identification d'un canal de communication. On envoie un signal $X$ connu dans un canal de fonction de transfert $h$ ave un bruit $Y$. On mesure ensuite le signal reçu $Z = h*X + Y$. Enfin, on estime le filtre $h_1$ qui est l'estimée de $h$ par la méthode des moindres carrés. Pour différentes valeurs de bruit, on relève l'erreur relative :\n",
    "* $\\sigma = 0.1 : \\epsilon_r < 1\\%$\n",
    "* $\\sigma = 1 : \\epsilon_r < 10\\%$\n",
    "* $\\sigma = 10 : \\epsilon_r$ est très variable avec des maxima à presque 100%\n",
    "\n",
    "Dans le cas où $\\sigma = 10$, il faut prendre $N=30000$ pour revenir à des erreurs relatives raisonnables, avec cependant quelques pics au-dessus de 10%."
   ]
  },
  {
   "cell_type": "code",
   "execution_count": 400,
   "metadata": {},
   "outputs": [
    {
     "name": "stdout",
     "output_type": "stream",
     "text": [
      "Filtre que l'on cherche à estimer : [1.  0.5]\n",
      "Filtre estimé par la méthode des moindres carrés : [1.00019047 0.49969087]\n",
      "Erreur relative : 0.032 %\n"
     ]
    }
   ],
   "source": [
    "h=np.asarray([1,1/2])\n",
    "print(f\"Filtre que l'on cherche à estimer : {h}\")\n",
    "N=1000\n",
    "X=randn(N)\n",
    "X_delta = np.zeros((N))\n",
    "X_delta[0]=1\n",
    "sigma=0.1\n",
    "Y=sigma*randn(N)\n",
    "\n",
    "Z=lfilter(h,[1],X)+Y\n",
    "hestime=moindres_carres(1,X,Z)\n",
    "print(f\"Filtre estimé par la méthode des moindres carrés : {hestime}\")\n",
    "print(f\"Erreur relative : {100*norm(hestime-h)/norm(h):.3f} %\")"
   ]
  },
  {
   "cell_type": "markdown",
   "metadata": {},
   "source": [
    "Si la longueur de $h$ n'est pas connue, on peut estimer plusieurs fois avec des ordres de plus en plus élevés jusqu'à ce que le dernier terme devienne négligeable. Lors des différentes ittérations, on garde les valeurs estimées aux ittérations précédentes afin de n'estimer qu'un paramètre par itération et limiter les calculs.\n",
    "\n",
    "Lorsque l'on utilise un Dirac comme signal d'entrée, on observe des erreurs relatives de l'ordre de 100%, ce qui n'est pas raisonnable. On devrait pourtant avoir une image de la réponse impulsionnelle du filtre. Seulement, cela ne tient pas compte du fait que le modèle considère également du bruit $Y$. Or comme la puissance du Dirac est très faible, la réponse impulsionnelle est complétement noyée dans le bruit.\n",
    "\n",
    "## 1.2 Suppression de bruit\n",
    "\n",
    "Dans cette partie, on cherche à estimer les paramètres du filtre pour extraire un signal d'intéret $Y$. Cependant, on suppose que l'ordre du filtre est inconnu ($p_{estime}+1$). Pour déterminer l'ordre du filtre, on a augmenté progressivement l'ordre jusqu'à ce que les nouveaux paramètres soient négligeables. On obtient alors la fonction de transfert suivante :\n",
    "* $H=1+z^{-1}+2z^{-2}+3z^{-3}$"
   ]
  },
  {
   "cell_type": "code",
   "execution_count": 401,
   "metadata": {},
   "outputs": [
    {
     "name": "stdout",
     "output_type": "stream",
     "text": [
      "Norme Y : 24.9010182016413\n",
      "Norme X : 6.302195573334668\n",
      "Norme Z : 25.67072910834011\n",
      "X.Y : 1027.71747069876\n",
      "Réponse impulsionnelle obtenue : [0.99782222 0.99769075 1.99780662 2.99789318]\n",
      "Réponse impulsionnelle avec coefficients arrondis : [1. 1. 2. 3.]\n"
     ]
    }
   ],
   "source": [
    "Fe=22050\n",
    "fich=loadmat('parasite.mat')\n",
    "Xparasite = fich['Xparasite']\n",
    "Zparasite = fich['Zparasite']\n",
    "\n",
    "p_estime = 3\n",
    "hestim=moindres_carres(p_estime,Xparasite,Zparasite)\n",
    "Y=Zparasite-lfilter(hestim,1,Xparasite)\n",
    "\n",
    "print(f\"Norme Y : {norm(Y)}\")\n",
    "print(f\"Norme X : {norm(Xparasite)}\")\n",
    "print(f\"Norme Z : {norm(Zparasite)}\")\n",
    "\n",
    "print(f\"X.Y : {(X*Y).sum()}\")\n",
    "\n",
    "sf.write(f'results\\\\bruit.flac', Xparasite, Fe)\n",
    "sf.write(f'results\\\\signal_bruite.flac', Zparasite, Fe)\n",
    "sf.write(f'results\\\\signal_debruite.flac', Y, Fe)\n",
    "\n",
    "print(f\"Réponse impulsionnelle obtenue : {hestim}\")\n",
    "print(f\"Réponse impulsionnelle avec coefficients arrondis : {np.around(hestim)}\")"
   ]
  },
  {
   "cell_type": "markdown",
   "metadata": {},
   "source": [
    "## 2. Le modèle auto-régressif pour la synthèse de parole\n"
   ]
  },
  {
   "cell_type": "code",
   "execution_count": 402,
   "metadata": {},
   "outputs": [
    {
     "name": "stdout",
     "output_type": "stream",
     "text": [
      "Filtre que l'on cherche à estimer : [1.  0.5]\n",
      "Filtre estimé : [1.         0.50115415]\n",
      "Erreur relative : 0.103 %\n",
      "Rapport des normes (attendu proche de 1) : 0.8879448681660652\n"
     ]
    }
   ],
   "source": [
    "N=1000\n",
    "h=np.asarray([1,1/2])\n",
    "sigma=0.1\n",
    "epsilon=sigma*randn(N)\n",
    "X=lfilter([1],h,epsilon) # help(lfilter) pour comprendre la position du h\n",
    "hestim=lpc_morceau(1,X)\n",
    "\n",
    "print(f\"Filtre que l'on cherche à estimer : {h}\")\n",
    "print(f\"Filtre estimé : {hestim}\")\n",
    "print(f\"Erreur relative : {100*norm(hestim-h)/norm(h):.3f} %\")\n",
    "\n",
    "tmp=lfilter(hestim,1,X); #Remarquer la position de hestim\n",
    "print(f\"Rapport des normes (attendu proche de 1) : {sum(tmp**2)/(N*sigma**2)}\")"
   ]
  },
  {
   "cell_type": "markdown",
   "metadata": {},
   "source": [
    "On obtient bien le $h$ voulu.\n",
    "\n",
    "Si jamais on prend $h = [1,~2]$, on a un pôle qui n'est pas dans le cercle unité. Etant donné que l'on travaille avec des signaux causaux, le filtre n'est pas stable. On obtient une erreur de calcul dans Python (Nan).\n",
    "\n",
    "Les dernières commandes renversent le filtre. On note $H_1(z)=\\frac{1}{1+0.5z^{-1}}$ et $H_2 = 1 + 0.5z^{-1}$. \n",
    "\n",
    "Le filtre que l'on estime est $H_1$. \n",
    "\n",
    "On a ensuite $X(z)=H_1(z)\\epsilon(z)$, puis $TMP(z)=H_2(z)X(z) = H_2(z)H_1(z)\\epsilon(z) = \\epsilon(z)$\n",
    "\n",
    "La norme du bruit blanc étant $N\\sigma^2$, on s'attend à trouver quelque chose proche de 1, ce qui est bien le cas.\n",
    "\n",
    "## 2.2 Application à un signal de parole\n"
   ]
  },
  {
   "cell_type": "code",
   "execution_count": 405,
   "metadata": {},
   "outputs": [
    {
     "name": "stderr",
     "output_type": "stream",
     "text": [
      "C:\\Users\\louis\\AppData\\Local\\Temp\\ipykernel_10132\\2935043001.py:14: DeprecationWarning: `np.int` is a deprecated alias for the builtin `int`. To silence this warning, use `int` by itself. Doing this will not modify any behavior and is safe. When replacing `np.int`, you may wish to use e.g. `np.int64` or `np.int32` to specify the precision. If you wish to review your current use, check the release note link for additional information.\n",
      "Deprecated in NumPy 1.20; for more details and guidance: https://numpy.org/devdocs/release/1.20.0-notes.html#deprecations\n",
      "  m=np.arange(n,n+N).astype(np.int)\n"
     ]
    },
    {
     "data": {
      "image/png": "[encoded data removed]",
      "text/plain": [
       "<Figure size 600x600 with 1 Axes>"
      ]
     },
     "metadata": {},
     "output_type": "display_data"
    }
   ],
   "source": [
    "fich=loadmat('modelear.mat')\n",
    "aeiou=fich['aeiou']\n",
    "sf.write(f'results\\\\aeiou_de_base.flac', aeiou, Fe)\n",
    "\n",
    "lpcs,res=lpc(aeiou,15,2000)\n",
    "out=joue_lpc(lpcs,res,2000)\n",
    "\n",
    "affiche_spectrogramme(aeiou, 3000)\n",
    "\n",
    "sf.write(f'results\\\\aeiou.flac', out/max(out), Fe)"
   ]
  },
  {
   "cell_type": "markdown",
   "metadata": {},
   "source": [
    "On entend les voyelles de façon peu distincte. Lorsque l'on enlève le filtre passe haut, on les entend plus fort mais elles sont moins \"précises\". Plus l'ordre est élevé, plus on se rapproche de la voix originale.\n",
    "\n",
    "On utilise ensuite un signal formé d'impulsions au lieu d'un bruit blanc. Pour qu'elles soient décalées de 0.1s avec $F_e=22050 kHz$, il faut qu'elles soient décalées de 2205 échantillons.\n",
    "\n",
    "On devrait envoyer les impulsions à la fréquence fondamentale de la voix enregistrée afin de retrouver un résultat le plus proche possible de la réalité."
   ]
  },
  {
   "cell_type": "code",
   "execution_count": 404,
   "metadata": {},
   "outputs": [],
   "source": [
    "\n",
    "#%% BONUS: Elimination des petits clicks (il faut utiliser des impulsions synchrones \n",
    "# dans les deux calculs de out0 et out1, par exemple avec des impulsions tous les 200\n",
    "# échantillonns        \n",
    "def multiplie_triangles(sig,nb):\n",
    "    taille=int(len(sig)/nb)\n",
    "    triangle=(nb/2-abs(np.arange(nb)-nb/2))/nb*2\n",
    "    out=sig.copy()\n",
    "    for k in range(0,taille,nb):\n",
    "        out[k:k+nb]=out[k:k+nb]*triangle\n",
    "    return out\n",
    "\n",
    "nb=2000\n",
    "lpcs0,res0=lpc(aeiou,15,nb)\n",
    "lpcs1,res1=lpc(np.concatenate((aeiou[nb//2:],np.zeros((nb//2,1))),axis=0),15,nb)\n",
    "out0=joue_lpc(lpcs0,res0,nb)\n",
    "out1=joue_lpc(lpcs1,res1,nb)\n",
    "out0=multiplie_triangles(out0,nb)\n",
    "out1=multiplie_triangles(out1,nb)\n",
    "out=out0.copy()\n",
    "out[nb//2:]=out[nb//2:]+out1[:-nb//2]\n",
    "sf.write(f'results\\\\bonus.flac', out, Fe)"
   ]
  }
 ],
 "metadata": {
  "kernelspec": {
   "display_name": "Python 3.10.7 64-bit (microsoft store)",
   "language": "python",
   "name": "python3"
  },
  "language_info": {
   "codemirror_mode": {
    "name": "ipython",
    "version": 3
   },
   "file_extension": ".py",
   "mimetype": "text/x-python",
   "name": "python",
   "nbconvert_exporter": "python",
   "pygments_lexer": "ipython3",
   "version": "3.10.7"
  },
  "orig_nbformat": 4,
  "vscode": {
   "interpreter": {
    "hash": "1b99ff67b40dbeb3d3f51b38f7b4ea8cde4c2bee889619c7ad0240fb7e21d076"
   }
  }
 },
 "nbformat": 4,
 "nbformat_minor": 2
}

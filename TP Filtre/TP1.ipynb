{
 "cells": [
  {
   "cell_type": "markdown",
   "metadata": {},
   "source": [
    "# TP 1 - Convolution et Transformée de Fourier\n",
    "## 1.2 Réaliser une convolution et écouter un écho\n",
    "### 1.2.3 Valeur en un point\n",
    "\n",
    "Il y a des problèmes de calcul aux bords du domaine car certains indices peuvent être négatifs. Il faut remédier à ce problème en modifiant le vecteur des indices. En testant notre fonction avec quelques valeurs pré-calculées, on confirme le bon foncitonnement de notre fonction."
   ]
  },
  {
   "cell_type": "code",
   "execution_count": 1,
   "metadata": {},
   "outputs": [
    {
     "name": "stdout",
     "output_type": "stream",
     "text": [
      "1.0\n",
      "2.0\n"
     ]
    }
   ],
   "source": [
    "\n",
    "import numpy as np\n",
    "\n",
    "def valconv(h,u,n):\n",
    "    a=len(h) # pour un tableau numpy len(v)==v.shape[0]\n",
    "    b=len(u)\n",
    "    u=u.reshape(-1) #s'assurer que u et v son de la meme forme\n",
    "    h=h.reshape(-1)\n",
    "    if n == 0:\n",
    "        return h[0]*u[0]\n",
    "    idx = np.arange(max(0,n-b+1), min(a-1, n) + 1)\n",
    "    return (h[idx]*u[n-idx]).sum()\n",
    "\n",
    "print(valconv(np.ones(3),np.ones(2),0))\n",
    "print(valconv(np.ones(3),np.ones(2),2))\n"
   ]
  },
  {
   "cell_type": "markdown",
   "metadata": {},
   "source": [
    "On étend ensuite notre fonction au calcul complet de la convolution. On compare les résultats à ceux obtenus par la fonction numpy pour vérifier son bon fonctionnement."
   ]
  },
  {
   "cell_type": "code",
   "execution_count": 2,
   "metadata": {},
   "outputs": [
    {
     "name": "stdout",
     "output_type": "stream",
     "text": [
      "[1. 2. 3. 4. 5. 5. 5. 4. 3. 2. 1.]\n",
      "[1. 2. 3. 4. 5. 5. 5. 4. 3. 2. 1.]\n"
     ]
    }
   ],
   "source": [
    "\n",
    "def full_conv(h, u):\n",
    "    a=len(h) # pour un tableau numpy len(v)==v.shape[0]\n",
    "    b=len(u)\n",
    "    out = np.zeros((a+b-1))\n",
    "    u=u.reshape(-1) #s'assurer que u et v son de la meme forme\n",
    "    h=h.reshape(-1)\n",
    "    out[0] = h[0]*u[0]\n",
    "    for n in range(1, a+b-1):\n",
    "        idx = np.arange(max(0,n-b+1), min(a-1, n) + 1)\n",
    "        out[n] = (h[idx]*u[n-idx]).sum()\n",
    "    return out\n",
    "\n",
    "print(full_conv(np.ones(5),np.ones(7)))\n",
    "print(np.convolve(np.ones(5),np.ones(7)))\n"
   ]
  },
  {
   "cell_type": "markdown",
   "metadata": {},
   "source": [
    "### 1.2.5 Ecoute d'un écho\n",
    "Dans cette partie, on s'intéresse au rôle de la convolution dans la synthèse d'un écho. On commence par écouter l'enregistrement de la note de piano. Le fait de lire l'enregistrement avec une fréquence d'échantillonnage de $\\frac{F_e}{2}$ diminue la fréquence de la note entendue par 2 et double le temps de lecture. On génère le vecteur $\\bf h$ qui est composé de 2 Dirac, que l'on convolue ensuite à notre enregistrement."
   ]
  },
  {
   "cell_type": "code",
   "execution_count": 3,
   "metadata": {},
   "outputs": [],
   "source": [
    "\n",
    "import soundfile as sf\n",
    "import matplotlib.pyplot as plt\n",
    "import sounddevice as sd\n",
    "from time import time\n",
    "\n",
    "[x,Fe]=sf.read('piano.wav')\n",
    "def echo(x, Fe, t1):\n",
    "    n1 = round(t1*Fe)\n",
    "    h = np.zeros((n1+1))\n",
    "    h[0]=1\n",
    "    h[n1]=0.8\n",
    "    return full_conv(h, x)\n",
    "\n",
    "def echo_scipy(x, Fe, t1):\n",
    "    n1 = round(t1*Fe)\n",
    "    h = np.zeros((n1+1))\n",
    "    h[0]=1\n",
    "    h[n1]=0.8\n",
    "    return np.convolve(h, x)"
   ]
  },
  {
   "cell_type": "markdown",
   "metadata": {},
   "source": [
    "En mesurant les temps de calcul, on se rend compte que la fonction de numpy (l'usage de cette fonction est conseillé plutôt que la fonction de scipy. L'implémentation est la même) est bien plus rapide que notre implémentation. \n",
    "La fonction de numpy utilise la propriété du produit de convolution qui devient un produit dans l'espace de Fourier. Dans cet espace on peut bénéficier de la FFT et donc réduire le temps de calcul."
   ]
  },
  {
   "cell_type": "code",
   "execution_count": 4,
   "metadata": {},
   "outputs": [
    {
     "name": "stdout",
     "output_type": "stream",
     "text": [
      "Temps de calcul fonction basique : 6.903791189193726\n",
      "Temps de calcul func scipy : 0.09050846099853516\n"
     ]
    }
   ],
   "source": [
    "t1 = 0.1\n",
    "start = time()\n",
    "y = echo(x, Fe, t1)\n",
    "stop = time()\n",
    "print(f'Temps de calcul fonction basique : {stop-start}')\n",
    "sf.write(f'results\\\\echo{t1}.flac', y, Fe)\n",
    "\n",
    "start = time()\n",
    "y = echo_scipy(x, Fe, t1)\n",
    "stop = time()\n",
    "print(f'Temps de calcul func scipy : {stop-start}')"
   ]
  },
  {
   "cell_type": "markdown",
   "metadata": {},
   "source": [
    "Avec $t_1=0.1$, on a l'impression que la note a été jouée deux fois. La vitesse du son dans l'air à 20°C est d'environ 340 $m.s^{-1}$. Donc 0.1 $s$ représente 34 $m$ et 0.01 $s$ représente 3.4 $m$.\n",
    "\n",
    "## 1.3 Filtre Rejecteur\n",
    "Dans cette partie on s'intéresse au rejet d'une perturbation de fréquence connue. La fréquence est de $f_0 = 1261 Hz$, soit une fréquence réduite $\\nu = \\frac{f_0}{F_e} = 0.0263$.\n",
    "\n",
    "La fonction de transfert du filtre rejette1 est $H_1 = 1 - z_0z^{-1}$. Ce filtre réduit beaucoup le volume général de l'enregistrement et on ne distingue presque pas l'atténuation.\n",
    "\n",
    "La fonction de transfert du filtre rejette2 est $H_2 = \\frac{1 - z_0z^{-1}}{1 - \\rho z_0z^{-1}}$. Ce filtre rejette de façon plus efficace la perturbation.\n",
    "\n",
    "<img src=\"cercle.jpg\" alt=\"Placement des pôles\" /> - La photo est dans le dossier.\n",
    "\n",
    "Le paramètre $\\rho$ doit toujours être inférieur à 1 pour que les pôles soient dans le cercle unité. Cela assure un filtre causal stable.\n",
    "\n",
    "Prendre un rho très proche de 1 va faire un filtre plus sélectif, mais il faut avoir une information très précise sur la fréquence à rejeter pour ne pas risquer de tomber \"à côté\" et ne finalement rien atténuer."
   ]
  },
  {
   "cell_type": "code",
   "execution_count": 5,
   "metadata": {},
   "outputs": [],
   "source": [
    "from math import pi\n",
    "import scipy\n",
    "\n",
    "n=np.arange(len(y)) #le temps discret que dure le signal y\n",
    "f0=1261 #fréquence en Hertz\n",
    "#La fréquence réduite est f0/Fe = 0.0263\n",
    "parasite = 0.1*np.cos(2*pi*f0/Fe*n)\n",
    "yb=y + parasite #on ajoute une onde parasite\n",
    "sf.write(f'results\\\\echo_pollution{f0}.flac', yb, Fe)\n",
    "\n",
    "def rejette1(entree,f0,Fs):\n",
    "#valeur recommandée pour rho: au moins 0.9 et jamais plus de 1\n",
    "    lfilter=scipy.signal.lfilter\n",
    "    z0=np.exp(2*1j*pi*f0/Fs) # position sur le cercle unite de la fréquence à éliminer\n",
    "    \n",
    "    sortie=lfilter([1 ,-z0],1,entree)\n",
    "    \n",
    "    sortie=lfilter([1, -np.conj(z0)],1,sortie) #Le signal est reel, il faut donc éliminer -f0 aussi!\n",
    "    \n",
    "    \n",
    "    sortie=np.real(sortie);# En raison d'erreurs d'arrondi il peut subsister une partie imaginaire\n",
    "    return sortie\n",
    "    \n",
    "def rejette2(entree,f0,Fs,rho):\n",
    "#valeur recommandée pour rho: au moins 0.9 et jamais plus de 1\n",
    "    lfilter=scipy.signal.lfilter\n",
    "    z0=np.exp(2*1j*pi*f0/Fs) # position sur le cercle unite de la fréquence à éliminer\n",
    "    \n",
    "    sortie=lfilter([1 ,-z0],[1 ,-rho*z0],entree)\n",
    "    \n",
    "    sortie=lfilter([1, -np.conj(z0)],[1 ,-rho*np.conj(z0)],sortie) #Le signal est reel, il faut donc éliminer -f0 aussi!\n",
    "\n",
    "    sortie=np.real(sortie)# En raison d'erreurs d'arrondi il peut subsister une partie imaginaire\n",
    "    return sortie\n",
    "\n",
    "premier_filtre = rejette1(yb, f0, Fe)\n",
    "second_filtre = rejette2(yb, f0+6, Fe, 0.90)\n",
    "\n",
    "sf.write(f'results\\\\rejette1_{f0}.flac', premier_filtre, Fe) # rejette1 atténue beaucoup trop le signal que l'on doit garder\n",
    "sf.write(f'results\\\\rejette2_{f0}.flac', second_filtre, Fe)"
   ]
  },
  {
   "cell_type": "markdown",
   "metadata": {},
   "source": [
    "## 2 Transformation de Fourier et échantillonnage \n",
    "### 2.2 Transformation de fourier"
   ]
  },
  {
   "cell_type": "code",
   "execution_count": 6,
   "metadata": {},
   "outputs": [
    {
     "data": {
      "image/png": "[encoded data removed]",
      "text/plain": [
       "<Figure size 640x480 with 1 Axes>"
      ]
     },
     "metadata": {},
     "output_type": "display_data"
    }
   ],
   "source": [
    "import matplotlib.pyplot as plt\n",
    "\n",
    "size = np.arange(100)\n",
    "\n",
    "s1 = np.sin(2*np.pi*0.1*size)\n",
    "s2 = np.sin(2*np.pi*0.123*size)\n",
    "\n",
    "fig, ax = plt.subplots()\n",
    "ax.plot(abs(np.fft.fft(s1)))\n",
    "ax.plot(abs(np.fft.fft(s2)))\n",
    "\n",
    "ax.set(xlabel='Fréquence normalisé', ylabel='Amplitude',\n",
    "       title='FFT')\n",
    "ax.grid()\n",
    "\n",
    "plt.show()"
   ]
  },
  {
   "cell_type": "markdown",
   "metadata": {},
   "source": [
    "On remarque une différence au niveau de la formes des crêtes dessinés sur le graphique. L'amplitude est plus importante dans le cas du sinus de fréquance normalisée 0.1 par rapport au sinus 0.123. La crête est moins importante mais plus large. Cela est dû au fait que l'échantillonnage du spectre de notre signal, que l'on peut considérer comme un signal tronqué par une porte, ne se fait pas sur le pas de grille. En effet, le spectre continu d'un sinus pur serait un sinus cardinal de l'ingénieur. Or on doit l'échantillonner sur 100 points, et le fait que $0.123 = \\frac{12,3}{100}$ induit un décalage : au lieu d'échantillonner le sinus cardinal de l'ingénieur au maximum du lobe principal, puis aux endroits ou les lobes secondaires s'annulent (comme dans le cas précédent), il y a ici des lobes secondaires qui ont été gardé du fait que 0.123 ne soit pas sur la grille.\n",
    "\n",
    "## 2.3 Fréquence réduite et Hz"
   ]
  },
  {
   "cell_type": "code",
   "execution_count": 7,
   "metadata": {},
   "outputs": [],
   "source": [
    "nu = 0.01\n",
    "n = np.arange(10000)\n",
    "x = np.sin(2*pi*nu*n)\n",
    "\n",
    "Fe = 44100\n",
    "\n",
    "sf.write(f'results\\\\frequence_reduite_{Fe}.flac', x, Fe)\n",
    "sf.write(f'results\\\\frequence_reduite_{Fe/2}.flac', x, int(Fe/2))"
   ]
  },
  {
   "cell_type": "markdown",
   "metadata": {},
   "source": [
    "Dans le cas $F_e = 44100 Hz$, on le son produit a une fréquence réelle de 441 $Hz$, et de seulement 220.5 $Hz$ dans le second cas."
   ]
  }
 ],
 "metadata": {
  "kernelspec": {
   "display_name": "Python 3.10.7 64-bit (microsoft store)",
   "language": "python",
   "name": "python3"
  },
  "language_info": {
   "codemirror_mode": {
    "name": "ipython",
    "version": 3
   },
   "file_extension": ".py",
   "mimetype": "text/x-python",
   "name": "python",
   "nbconvert_exporter": "python",
   "pygments_lexer": "ipython3",
   "version": "3.10.7"
  },
  "orig_nbformat": 4,
  "vscode": {
   "interpreter": {
    "hash": "1b99ff67b40dbeb3d3f51b38f7b4ea8cde4c2bee889619c7ad0240fb7e21d076"
   }
  }
 },
 "nbformat": 4,
 "nbformat_minor": 2
}

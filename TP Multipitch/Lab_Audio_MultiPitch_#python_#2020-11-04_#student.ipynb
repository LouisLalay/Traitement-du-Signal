{
 "cells": [
  {
   "cell_type": "markdown",
   "metadata": {},
   "source": [
    "# Lab/ Audio/ Multi-Pitches estimation\n",
    "\n",
    "Author: Geoffroy Peeters \n",
    "\n",
    "Last edit: 2020/11/04\n",
    "\n",
    "## Introduction\n",
    "\n",
    "L’objectif de ce TP est de réaliser un module d’estimation de fréquences fondamentales multiples d’un signal de musique (i.e. de déterminer à partir du signal audio les notes de musique jouées).\n",
    "Il existe de nombreuses approches pour résoudre ce problème. \n",
    "Nous étudions ici une technique simple inspirée par les travaux de A. Klapuri [1, 2].\n",
    "\n",
    "Cette approche consiste à \n",
    "- dans un premier temps estimer la fréquence fondamentale dominante\n",
    "- à en déduire la position et l’amplitude de ses harmoniques sur le spectre \n",
    "- et à soustraire la contribution du son correspondant.\n",
    "\n",
    "Ce principe est ensuite itéré à chaque fois sur le signal soustrait afin d’extraire progressivement l’ensemble des fréquences fondamentales.\n",
    "\n",
    "Il est ensuite proposé de mettre en place le principe de la **continuité de l’enveloppe spectrale** (spectral smoothness) qui sera appliqué au préalable de la soustraction fréquentielle.\n",
    "\n",
    "Les performances de ces approches seront testées et comparées sur différents accords composés de notes de piano, de flute et de hautbois.\n",
    "\n",
    "La figure résume les différentes étapes de l’algorithme.\n",
    "<IMG src='./_images/TP_multiPitch_schema.png'  width=600/>"
   ]
  },
  {
   "cell_type": "code",
   "execution_count": null,
   "metadata": {},
   "outputs": [],
   "source": [
    "import numpy as np\n",
    "import scipy.io.wavfile\n",
    "from scipy.signal import convolve2d\n",
    "import matplotlib.pyplot as plt\n",
    "import sys\n",
    "import tpt_tools\n",
    "%matplotlib inline\n",
    "\n",
    "do_student = True"
   ]
  },
  {
   "cell_type": "markdown",
   "metadata": {},
   "source": [
    "Nous sélectionner le fichier audio à étudier."
   ]
  },
  {
   "cell_type": "code",
   "execution_count": null,
   "metadata": {},
   "outputs": [],
   "source": [
    "#audioFile = './_audio/A3_piano.wav'# 220 Hz \n",
    "#audioFile = './_audio/A4_piano.wav' # 440 Hz\n",
    "#audioFile = './_audio/E4_oboe.wav' # 329 Hz\n",
    "#audioFile = './_audio/A5_flute.wav' # 880\n",
    "#audioFile = './_audio/A3A4_piano.wav' # 220, 440\n",
    "#audioFile = './_audio/A3A4A5_duo.wav' # 220, 440, 880\n",
    "audioFile = './_audio/A3C4E4G4_piano.wav' # 220, 261, 329, 392 Hz"
   ]
  },
  {
   "cell_type": "code",
   "execution_count": null,
   "metadata": {},
   "outputs": [],
   "source": [
    "sr_hz, data_v = scipy.io.wavfile.read(audioFile)\n",
    "\n",
    "fmin_hz = 50\n",
    "fmax_hz = 900\n",
    "H = 4\n",
    "L_sec = 0.1\n",
    "\n",
    "L_n = np.int(L_sec*sr_hz)\n",
    "Nfft = 4*tpt_tools.nextpow2(L_n)\n",
    "\n",
    "import IPython.display as ipd\n",
    "ipd.Audio(audioFile)"
   ]
  },
  {
   "cell_type": "markdown",
   "metadata": {},
   "source": [
    "# Estimation de la fréquence fondamentale par la méthode du produit spectral\n",
    "\n",
    "Nous allons estimer ici la fréquence fondamentale $f_0$ d’un signal discret $x(n)$ échantillonné à la fréquence $sr_{hz}$.\n",
    "La valeur $f_0$ sera recherchée dans un intervalle $[F_{min},F_{max}]$, avec une **précision** au moins égale à $dF$.\n",
    "La valeur de $dF$ s'obtient à partir du nombre de points de la DFT et du taux d'échantillonnage $dF = \\frac{sr_{hz}}{N_{fft}}$.\n",
    "Par défaut, nous utiliserons $F_{min}$ = 50 Hz, $F_{max}$ = 900 Hz.\n",
    "\n",
    "Nous allons utiliser la méthode du **produit spectral**.\n",
    "Celui-ci est calculé en multipliant $H$ versions compressées du spectre. \n",
    "\n",
    "Si nous notons $f_k = \\frac{k}{N_{fft}}$ les fréquences discrètes de la DFT, le produit spectral est donné par:\n",
    "\\begin{equation}\n",
    "    P(f_k) = \\prod_{h=1}^{H} |X(h \\cdot f_k)|\n",
    "\\end{equation}\n",
    "Par défaut nous utiliserons $H$ = 4.\n",
    "\n",
    "Les différentes étapes de ce calcul sont détaillées ci-dessous."
   ]
  },
  {
   "cell_type": "markdown",
   "metadata": {},
   "source": [
    "## Calcul du spectre (TFD) du signal\n",
    "\n",
    "Dans un premier temps, nous calculons la transformée de Fourier discrète (TFD) du signal $x(n)$ sur $N_{fft}$ points.\n",
    "Nous commençons par multiplier $x(n)$ par une fenêtre de hamming de taille $L_n$ (ceci afin de diminuer la hauteur des lobes secondaires).\n",
    "\n",
    "La longueur $L_n$ ainsi que le type de cette fenêtre détermine la **résolution fréquentielle**, i.e. le pouvoir de séparer en fréquence deux sinusoides adjacentes.\n",
    "\n",
    "Le nombre de points de la la DFT, $N_{fft}$, détermine lui la **précision fréquentielle**., i.e. la distance en Hz entre $f_k$ et $f_{k+1}$.\n",
    "Il faut impérativement utiliser une valeur de $N_{fft}$ supérieure à $L_n$. En pratique $N_{fft}$ est choisi comme une puissance de 2 de manière à pouvoir utiliser l'algorithme de FFT (Fast Fourier Transform). Ceci peut se calculer à l'aide de la fonction ```nextpow2```.\n",
    "\n",
    "Calculer ensuite la transformée de Fourier Discrète $X(k)$."
   ]
  },
  {
   "cell_type": "code",
   "execution_count": null,
   "metadata": {},
   "outputs": [],
   "source": [
    "def F_getSpectreFromAudio(x, L_n, Nfft, sr_hz):\n",
    "    \"\"\"\n",
    "    inputs:\n",
    "        - x: signal\n",
    "        - L_n: window duration in samples\n",
    "        - Nfft: fft size\n",
    "        - sr_hz: sampling rate\n",
    "    outputs:\n",
    "        - fftFreq_hz_v (N/2+1,): vector containing the DFT frequencies in Hz\n",
    "        - fftAmpl_v (N/2+1,): vector containing the DFT amplitudes\n",
    "    \"\"\"\n",
    "    \n",
    "    if do_student:\n",
    "        ### START CODE HERE ###    \n",
    "        ...\n",
    "        ### END CODE HERE ###\n",
    "    \n",
    "    # +++++++++++++++++++++++++++++++\n",
    "    plt.figure(figsize=(10, 6))\n",
    "    tpt_tools.F_plot1(fftFreq_hz_v, fftAmpl_v, 'Frequency [Hz]', 'Amplitude [lin]')\n",
    "    plt.xlim((0,3000))\n",
    "    # +++++++++++++++++++++++++++++++\n",
    "\n",
    "    return fftFreq_hz_v, fftAmpl_v"
   ]
  },
  {
   "cell_type": "code",
   "execution_count": null,
   "metadata": {},
   "outputs": [],
   "source": [
    "fftFreq_hz_v, fftAmpl_v = F_getSpectreFromAudio(data_v, L_n, Nfft, sr_hz)"
   ]
  },
  {
   "cell_type": "markdown",
   "metadata": {},
   "source": [
    "### Test \n",
    "Pour le signal audioFile = './_audio/A3C4E4G4_piano.wav' vous devriez obtenir\n",
    "\n",
    "<IMG SRC='./_images/TP_multiPitch_01.png' width=600/>"
   ]
  },
  {
   "cell_type": "markdown",
   "metadata": {},
   "source": [
    "## Calcul du produit spectral et recherche du maximum du produit spectral\n",
    "\n",
    "Le produit spectral $P$ sera codé dans un vecteur de longueur $R$, couvrant l'intervalle $[0, R-1]$.\n",
    "La fréquence maximale intervenant dans le calcul de $P$ sera donc $H \\frac{R-1}{N_{fft}} sr_{hz}$.\n",
    "\n",
    "En déduire (en fonction de $N_{fft}$ et de $H$) la valeur maximale de $R$ qui garantit de ne pas dépasser la fréquence de Nyquist ($\\frac{sr_{hz}}{2}$).\n",
    "Calculer ensuite $P$ en fonction de $|X|$.\n",
    "\n",
    "Déterminer les valeurs entières $N_{min}$ et $N_{max}$ qui correspondent à l’intervalle $[F_{min},F_{max}]$ (on veillera à ce que $N_{max}$ reste inférieur à $R$).\n",
    "Rechercher le maximum de $P$ sur l’intervalle $[N_{min},N_{max}]$, et en déduire la valeur de la fréquence fondamentale $f_0$.\n",
    "\n",
    "On testera la fonction de détection de la fréquence fondamentale sur des signaux monophoniques (par exemple A4\\_piano.wav ou E4\\_oboe.wav)."
   ]
  },
  {
   "cell_type": "code",
   "execution_count": null,
   "metadata": {},
   "outputs": [],
   "source": [
    "def F_getF0FromSpectre(fftFreq_hz_v, fftAmpl_v, H, fmin_hz, fmax_hz, Nfft, sr_hz):\n",
    "    \"\"\"\n",
    "    inputs:\n",
    "        - fftFreq_hz_v (N/2+1,): vector containing the FFT frequencies in Hz\n",
    "        - fftAmpl_v (N/2+1,): vector containing the FFT amplitude \n",
    "        - H: number of times the spectrum is decimated\n",
    "        - fmin_hz: minimum frequency in Hz to look for F0\n",
    "        - fmax_hz: maximum frequency in Hz to look for F0\n",
    "        - Nfft: fft size\n",
    "        - sr_hz: sampling rate\n",
    "    outputs:\n",
    "        - spFreq_hz_v: vector containing the SpectralProduct frequencies in Hz\n",
    "        - spAmpl_v: vector containing the SpectralProduct amplitudes \n",
    "        - f0_hz: estimated F0 in Hz\n",
    "    \"\"\"\n",
    "    \n",
    "    if do_student:\n",
    "        ### START CODE HERE ###        \n",
    "        ...\n",
    "        ### END CODE HERE ###\n",
    "    \n",
    "    # +++++++++++++++++++++++++++++++\n",
    "    plt.figure(figsize=(10,6))\n",
    "    tpt_tools.F_plot1(fftFreq_hz_v, fftAmpl_v/np.max(fftAmpl_v), 'Frequency [Hz]', 'Amplitude [lin]')\n",
    "    plt.plot(spFreq_hz_v, spAmpl_v/np.max(spAmpl_v), 'r')\n",
    "    plt.xlim((0,3000))\n",
    "    plt.plot(f0_hz, 1, 'ro')\n",
    "    # +++++++++++++++++++++++++++++++\n",
    "\n",
    "    return spFreq_hz_v, spAmpl_v, f0_hz"
   ]
  },
  {
   "cell_type": "code",
   "execution_count": null,
   "metadata": {},
   "outputs": [],
   "source": [
    "spFreq_hz_v, spAmpl_v, f0_hz = F_getF0FromSpectre(fftFreq_hz_v, fftAmpl_v, H, fmin_hz, fmax_hz, Nfft, sr_hz)"
   ]
  },
  {
   "cell_type": "markdown",
   "metadata": {},
   "source": [
    "### Test \n",
    "Pour le signal audioFile = './_audio/A3C4E4G4_piano.wav' vous devriez obtenir\n",
    "\n",
    "<IMG SRC='./_images/TP_multiPitch_02.png' width=600/>"
   ]
  },
  {
   "cell_type": "markdown",
   "metadata": {},
   "source": [
    "# Soustraction du son correspondant à la fréquence fondamentale détectée\n",
    "\n",
    "Dans les cas des signaux polyphoniques, plusieurs spectres harmoniques sont superposés.\n",
    "Nous allons donc soustraire du spectre total, celui correspondant au spectre harmonique dont nous venons d'avoir estimer la $f_0$.\n",
    "\n",
    "## Détection des harmoniques\n",
    "\n",
    "Pour cela, nous devons d'abord connaitre la position des harmoniques du son de fréquence fondamentale $f_0$.\n",
    "Une procédure simple consiste à rechercher le maximum du spectre autour de chaque **harmonique théorique** de fréquence $f_h = h \\cdot f_0$.\n",
    "\n",
    "L’intervalle de recherche autour de chaque harmonique $f_h$ est donné par $[f_{kmin}:f_{kmax}]$. \n",
    "Afin de tenir compte de l'inharmonicité des sons, on pourra choisir $f_{kmin} = (1-\\alpha) f_{inharmo}$ et $f_{kmax} = (1+\\alpha) f_{inharmo}$ avec $f_{inharmo} = h f_0 \\sqrt{1+(h^2-1) \\beta}$ où $\\beta$ est le coefficient d’inharmonicité (ce qui correspond à un bon modèle d’inharmonicité dans le cas du piano).\n",
    "\n",
    "On pourra par ailleurs appliquer cette recherche également pour $h$ = 1 afin d’affiner l’estimation de $f_0$."
   ]
  },
  {
   "cell_type": "markdown",
   "metadata": {},
   "source": [
    "Quel choix de $\\alpha$, $\\beta$ vous parait judicieux pour le piano ? pour le hautbois ? \n",
    "Ce modèle de recherche des harmoniques vous parait-il judicieux ? Justifier.\n",
    "\n",
    "**Résponse:**"
   ]
  },
  {
   "cell_type": "code",
   "execution_count": null,
   "metadata": {},
   "outputs": [],
   "source": [
    "def F_getHarmonicsFromF0AndSpectre(fftFreq_hz_v, fftAmpl_v, f0_hz, Nfft, sr_hz):\n",
    "    \"\"\"\n",
    "    inputs:\n",
    "        - fftFreq_hz_v (N/2+1,): vector containing the FFT frequencies in Hz\n",
    "        - fftAmpl_v (N/2+1,): vector containing the FFT amplitude \n",
    "        - f0_hz: estimated F0 in Hz\n",
    "        - Nfft: fft size\n",
    "        - sr_hz: sampling rate\n",
    "    outputs:\n",
    "        - harmoFreq_k_v: vector containing the position/index of the Harmonics (position in fftFreq_hz_v or fftAmpl_v)\n",
    "        - harmoAmpl_v:  vector containing the Harmonic amplitudes\n",
    "    \"\"\"\n",
    "    \n",
    "    if do_student:\n",
    "        ### START CODE HERE ###            \n",
    "        ...\n",
    "        ### END CODE HERE ###            \n",
    "    \n",
    "    # +++++++++++++++++++++++++++++++\n",
    "    plt.figure(figsize=(10,6))\n",
    "    tpt_tools.F_plot1(fftFreq_hz_v, fftAmpl_v, 'Frequency [Hz]', 'Amplitude [lin]')\n",
    "    plt.plot(fftFreq_hz_v, fftAmpl_v, 'b.')\n",
    "    plt.plot(fftFreq_hz_v[harmoFreq_k_v], harmoAmpl_v, 'ro')\n",
    "    plt.xlim((0,3000))\n",
    "    # +++++++++++++++++++++++++++++++\n",
    "\n",
    "    return harmoFreq_k_v, harmoAmpl_v"
   ]
  },
  {
   "cell_type": "code",
   "execution_count": null,
   "metadata": {},
   "outputs": [],
   "source": [
    "harmoFreq_k_v, harmoAmpl_v = F_getHarmonicsFromF0AndSpectre(fftFreq_hz_v, fftAmpl_v, f0_hz, Nfft, sr_hz)"
   ]
  },
  {
   "cell_type": "markdown",
   "metadata": {},
   "source": [
    "### Test \n",
    "Pour le signal audioFile = './_audio/A3C4E4G4_piano.wav' vous devriez obtenir\n",
    "\n",
    "<IMG SRC='./_images/TP_multiPitch_03.png' width=600/>"
   ]
  },
  {
   "cell_type": "markdown",
   "metadata": {},
   "source": [
    "## Suppression des harmoniques\n",
    "\n",
    "Il s’agit ensuite de supprimer la totalité des harmoniques $f_h$ correspondant à un son donné. \n",
    "- Pour cela, on calcul d'abord la largeur théorique d’un pic spectral (celui-ci dépend de la largeur $L_n$ de la fenêtre d’analyse utilisée). \n",
    "- Ensuite, pour chaque harmonique $f_h$, on annule le spectre sur cette largeur théorique centrée sur $f_h$. Nous notons $a_h$ et $b_h$ les bornes de cet interval.\n",
    "\n",
    "En raison de la technique d’estimation de la fréquence fondamentale utilisée, la mise à zéro des harmoniques perturbe les itérations ultérieures de l’algorithme.\n",
    "Pour cette raison, on remplacera la mise à zéro par le forçage des valeurs du spectre autour de chaque harmonique $f_h$ au minimum du spectre sur cet intervalle ($|X(a_h : b_h)| = \\min(|X(a_h : b_h))|$)."
   ]
  },
  {
   "cell_type": "markdown",
   "metadata": {},
   "source": [
    "## Suppression des harmoniques avec application du principe du \"spectral smoothness\"\n",
    "\n",
    "Afin de mieux discerner les sons qui sont en relation harmonique (et notamment les sons à l’octave) il est préférable de ne pas soustraire totalement un son de la mixture, mais d’essayer de ne soustraire que sa contribution au niveau de chaque harmonique.\n",
    "Pour cela, on utilise le principe de la **continuité de l’enveloppe spectrale (\"spectral smoothness\")**.\n",
    "\n",
    "Celui-ci consiste à calculer un spectre harmonique lissé où l’amplitude du spectre au niveau de chaque harmonique $f_h$ est remplacée par la moyenne des amplitudes des harmoniques $f_{h-1}$, $f_h$ et $f_{h+1}$. Cette nouvelle valeur, notée $|\\hat{X}(f_h)|$ représente mieux la contribution du son harmonique de fréquence fondamentale $f_0$ que celle issue directement du spectre, notée $|X(f_h)|$. En effet ce dernier peut être le résultat d'une superposition d'harmoniques de différents sons.\n",
    "\n",
    "Ensuite, la soustraction spectrale consiste à:\n",
    "\n",
    "– Si $|X(f_h)|$ est inférieure à $|\\hat{X}(f_h)|$ nous forçons les valeurs du spectre autour de chaque harmonique $f_h$ au minimum du spectre sur cet intervalle ($|X(a_h : b_h)| = \\min(|X(a_h : b_h))|$)\n",
    "\n",
    "– Si $|X(f_h)|$ est supérieure à $|\\hat{X}(f_h)|$ nous forçons les valeurs du spectre autour de chaque harmonique $f_h$ à la différence entre le spectre et le spectre lissé sur cet intervalle $[a_h : b_h]$; pour éviter les valeurs négatives nous clipperons le résultat à un minimum de 0."
   ]
  },
  {
   "cell_type": "code",
   "execution_count": null,
   "metadata": {},
   "outputs": [],
   "source": [
    "def F_cancelHarmonics(fftFreq_hz_v, fftAmpl_v, harmoFreq_k_v, harmoAmpl_v, L_sec, Nfft, sr_hz):\n",
    "    \"\"\"\n",
    "    inputs:\n",
    "        - fftFreq_hz_v (N/2+1,): vector containing the FFT frequencies in Hz\n",
    "        - fftAmpl_v (N/2+1,): vector containing the FFT amplitude \n",
    "        - harmoFreq_k_v: vector containing the position/index of the Harmonics (position in fftFreq_hz_v or fftAmpl_v)\n",
    "        - harmoAmpl_v:  vector containing the Harmonic amplitudes\n",
    "        - L_sec: window duration in seconds\n",
    "        - Nfft: fft size\n",
    "        - sr_hz: sampling rate\n",
    "    outputs:\n",
    "        - fftAmplSubtract_v (N/2+1,):  vector containing the FFT amplitude with amplitudes canceled at harmonic positions\n",
    "    \"\"\"\n",
    " \n",
    "\n",
    "    Cw = 2.0 # === for a hanning window\n",
    "    Bw_hz = Cw/(L_sec) # === this is the width at -3dB of the main lobe\n",
    "    Bw_hz = 3*Bw_hz # === we extend it a bit since we want more than \"at -3 dB\"\n",
    "    Bw_k = np.int(Bw_hz/sr_hz*Nfft)\n",
    "    Bw_k = Bw_k +Bw_k % 2\n",
    "    if do_student:\n",
    "        ### START CODE HERE ###\n",
    "        ...\n",
    "        ### END CODE HERE ###    \n",
    "    \n",
    "    # +++++++++++++++++++++++++++++++\n",
    "    plt.figure(figsize=(10,6))\n",
    "    plt.plot(fftFreq_hz_v, fftAmpl_v, 'b-')\n",
    "    plt.plot(fftFreq_hz_v[harmoFreq_k_v], harmoAmpl_v, 'ro')\n",
    "    plt.plot(fftFreq_hz_v[harmoFreq_k_v], harmoAmplSmooth_v, 'g+')\n",
    "    plt.plot(fftFreq_hz_v, fftAmplSubtract_v, 'g-')\n",
    "    plt.xlim((0,3000))\n",
    "    # +++++++++++++++++++++++++++++++\n",
    "\n",
    "    return fftAmplSubtract_v"
   ]
  },
  {
   "cell_type": "code",
   "execution_count": null,
   "metadata": {},
   "outputs": [],
   "source": [
    "fftAmplSubtract_v = F_cancelHarmonics(fftFreq_hz_v, fftAmpl_v, harmoFreq_k_v, harmoAmpl_v, L_sec, Nfft, sr_hz)"
   ]
  },
  {
   "cell_type": "markdown",
   "metadata": {},
   "source": [
    "### Test \n",
    "Pour le signal audioFile = './_audio/A3C4E4G4_piano.wav' vous devriez obtenir\n",
    "\n",
    "<IMG SRC='./_images/TP_multiPitch_04.png' width=600/>"
   ]
  },
  {
   "cell_type": "markdown",
   "metadata": {},
   "source": [
    "## Critère d’arrêt\n",
    "\n",
    "Les étapes précédentes (```F_getF0FromSpectre```,```F_getHarmonicsFromF0AndSpectre```,```F_cancelHarmonics```) sont ensuite itérées tant qu’un certain critère d’arrêt n’est pas vérifié.\n",
    "\n",
    "Déterminer un critère d’arrêt qui vous permet d’arrêter l’itération lorsque le bon nombre de notes a été trouvé.\n",
    "\n",
    "On testera l’algorithme sur les différents accords proposés."
   ]
  },
  {
   "cell_type": "code",
   "execution_count": null,
   "metadata": {},
   "outputs": [],
   "source": [
    "if do_student:\n",
    "        ### START CODE HERE ###\n",
    "        ...\n",
    "        ### END CODE HERE ###    \n"
   ]
  },
  {
   "cell_type": "markdown",
   "metadata": {},
   "source": [
    "# Bibliographie\n",
    "\n",
    "- [1] A.P. Klapuri. Multipitch estimation and sound separation by the spectral smoothness principle. In Procee- dings of IEEE International Conference on Acoustics, Speech and Signal Processing, ICASSP, May 2001.\n",
    "- [2] A.P. Klapuri. Multiple fundamental frequency estimation by harmonicity and spectral smoothness. IEEE Trans. Speech and Audio Processing, 11(6) :804–816, 2003."
   ]
  }
 ],
 "metadata": {
  "kernelspec": {
   "display_name": "Python 3",
   "language": "python",
   "name": "python3"
  },
  "language_info": {
   "codemirror_mode": {
    "name": "ipython",
    "version": 3
   },
   "file_extension": ".py",
   "mimetype": "text/x-python",
   "name": "python",
   "nbconvert_exporter": "python",
   "pygments_lexer": "ipython3",
   "version": "3.8.5"
  },
  "toc": {
   "base_numbering": 1,
   "nav_menu": {},
   "number_sections": true,
   "sideBar": true,
   "skip_h1_title": false,
   "title_cell": "Table of Contents",
   "title_sidebar": "Contents",
   "toc_cell": false,
   "toc_position": {
    "height": "calc(100% - 180px)",
    "left": "10px",
    "top": "150px",
    "width": "165px"
   },
   "toc_section_display": true,
   "toc_window_display": true
  }
 },
 "nbformat": 4,
 "nbformat_minor": 2
}
